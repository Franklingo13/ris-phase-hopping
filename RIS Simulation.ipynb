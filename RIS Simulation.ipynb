{
 "cells": [
  {
   "cell_type": "markdown",
   "metadata": {},
   "source": [
    "# Artificial Fast Fading from RIS"
   ]
  },
  {
   "cell_type": "markdown",
   "metadata": {},
   "source": [
    "_Author:_ Karl-Ludwig Besser, Technische Universität Braunschweig\n",
    "\n",
    "This notebook is part of the paper \"Artificial Fast Fading from\n",
    "Reconfigurable Surfaces Enables Ultra-Reliable Communications\" (submitted to SPAWC 2021).  \n",
    "If you use any of this work, please cite the above paper."
   ]
  },
  {
   "cell_type": "markdown",
   "metadata": {},
   "source": [
    "> If you are not familiar with Jupyter notebooks: The easiest way to use this notebook interactively, is to hit `Kernel --> Restart & Run All` in the menu. This will execute all cells and enable the interactive elements of the plots.  \n",
    "> Alternatively, you can execute the cells one by one using Shift+Return"
   ]
  },
  {
   "cell_type": "code",
   "execution_count": 1,
   "metadata": {},
   "outputs": [],
   "source": [
    "import numpy as np\n",
    "from scipy import stats\n",
    "%matplotlib widget\n",
    "import matplotlib.pyplot as plt\n",
    "from ipywidgets import interact, interact_manual"
   ]
  },
  {
   "cell_type": "code",
   "execution_count": 2,
   "metadata": {},
   "outputs": [],
   "source": [
    "from phases import gains_constant_phase, rvs_channel_phases, rvs_ris_phases, rvs_ris_phases_quant"
   ]
  },
  {
   "cell_type": "markdown",
   "metadata": {},
   "source": [
    "# Constant RIS Phases\n",
    "\n",
    "\n",
    "TODO: Text"
   ]
  },
  {
   "cell_type": "code",
   "execution_count": 3,
   "metadata": {},
   "outputs": [],
   "source": [
    "def constant_ris_phases(num_samples=50000, num_elements=[5, 10, 20, 50]):\n",
    "    fig, axs = plt.subplots()\n",
    "    def update(show_approx=True):\n",
    "        axs.clear()\n",
    "        axs.set_xlabel(\"Rate $R$\")\n",
    "        axs.set_ylabel(\"Outage Probability $\\\\varepsilon$\")\n",
    "        for _num_elements in num_elements:\n",
    "            channel_realizations = rvs_channel_phases(_num_elements, num_samples)\n",
    "            const_phase = gains_constant_phase(channel_realizations)\n",
    "            capac_const_phase = np.log2(1 + const_phase)\n",
    "            _hist = np.histogram(capac_const_phase, bins=100)\n",
    "            _r_ax = np.linspace(min(capac_const_phase)*.9, max(capac_const_phase)*1.1, 1000)\n",
    "            cdf_hist = stats.rv_histogram(_hist).cdf(_r_ax)\n",
    "            axs.plot(_r_ax, cdf_hist, label=\"Empirical CDF N={:d}\".format(_num_elements))\n",
    "            if show_approx:\n",
    "                cdf_appr = 1. - np.exp(-(2**_r_ax-1)/_num_elements)  # N --> oo, for sum\n",
    "                axs.plot(_r_ax, cdf_appr, '--', label=\"Approximate N={:d}\".format(_num_elements))\n",
    "        axs.legend()\n",
    "    interact(update, show_approx=True)"
   ]
  },
  {
   "cell_type": "code",
   "execution_count": 4,
   "metadata": {},
   "outputs": [
    {
     "data": {
      "application/vnd.jupyter.widget-view+json": {
       "model_id": "25eb5a2a5a2d4a29863d3760c83db16d",
       "version_major": 2,
       "version_minor": 0
      },
      "text/plain": [
       "Canvas(toolbar=Toolbar(toolitems=[('Home', 'Reset original view', 'home', 'home'), ('Back', 'Back to previous …"
      ]
     },
     "metadata": {},
     "output_type": "display_data"
    },
    {
     "data": {
      "application/vnd.jupyter.widget-view+json": {
       "model_id": "40e2e44553d74d5bbdd22e512c9ed0ec",
       "version_major": 2,
       "version_minor": 0
      },
      "text/plain": [
       "interactive(children=(Checkbox(value=True, description='show_approx'), Output()), _dom_classes=('widget-intera…"
      ]
     },
     "metadata": {},
     "output_type": "display_data"
    }
   ],
   "source": [
    "constant_ris_phases()"
   ]
  },
  {
   "cell_type": "markdown",
   "metadata": {},
   "source": [
    "# Random RIS Phases\n",
    "\n",
    "TODO: Text"
   ]
  },
  {
   "cell_type": "markdown",
   "metadata": {},
   "source": [
    "## Two-Element RIS\n",
    "\n",
    "TODO: Text"
   ]
  },
  {
   "cell_type": "code",
   "execution_count": 5,
   "metadata": {},
   "outputs": [],
   "source": [
    "def cdf_ergodic_capac_two_elements(rate, copula=\"indep\"):\n",
    "    if copula.startswith(\"comon\"):\n",
    "        #pdf = 2./(np.pi*np.sqrt(2-2**rate))\n",
    "        cdf = 2/np.pi * np.arcsin(0.5 * np.sqrt(2**rate-1))\n",
    "        cdf[np.isnan(cdf)] = 1.\n",
    "    elif copula.startswith(\"indep\"):\n",
    "        #ergodic = -(np.exp(1/2)*special.expi(-1/2))/(np.log(2)) #approximation\n",
    "        ergodic = np.arccosh(3/2)/np.log(2)\n",
    "        cdf = np.heaviside(rate-ergodic, .5)\n",
    "    elif copula.startswith(\"counter\"):\n",
    "        ergodic = np.arccosh(3/2)/np.log(2)\n",
    "        cdf = np.heaviside(rate-ergodic, .5)\n",
    "    return cdf\n",
    "\n",
    "def two_element_fast_fading(num_samples_slow=1000, num_samples_fast=5000):\n",
    "    fig, axs = plt.subplots()\n",
    "    num_elements = 2\n",
    "    dependencies = [\"comon\", \"counter\", \"indep\"]\n",
    "    channel_realizations = rvs_channel_phases(num_elements, num_samples_slow)\n",
    "    channel_realizations = np.tile(channel_realizations, (num_samples_fast, 1, 1))\n",
    "    for _dependency in dependencies:\n",
    "        print(\"Working on '{}'\".format(_dependency))\n",
    "        ris_phases = rvs_ris_phases(num_elements, num_samples_slow, num_samples_fast, copula=_dependency)\n",
    "        total_phase = channel_realizations + ris_phases\n",
    "        const_phase = gains_constant_phase(total_phase)\n",
    "        capac_const_phase = np.log2(1 + const_phase)\n",
    "        expect_capac = np.mean(capac_const_phase, axis=0)\n",
    "        _hist = np.histogram(expect_capac, bins=100)\n",
    "        _r_ax = np.linspace(0, 3, 1000)\n",
    "        cdf_hist = stats.rv_histogram(_hist).cdf(_r_ax)\n",
    "        cdf_exact = cdf_ergodic_capac_two_elements(_r_ax, copula=_dependency)\n",
    "        axs.plot(_r_ax, cdf_hist, label=\"ECDF -- {}\".format(_dependency))\n",
    "        axs.plot(_r_ax, cdf_exact, '--', label=\"Exact -- {}\".format(_dependency))\n",
    "    axs.legend()\n",
    "    axs.set_title(\"Artificial Fast Fading with N={:d} RIS Elements\".format(num_elements))\n",
    "    axs.set_xlabel(\"Rate $R$\")\n",
    "    axs.set_ylabel(\"Outage Probability\")"
   ]
  },
  {
   "cell_type": "code",
   "execution_count": 6,
   "metadata": {},
   "outputs": [
    {
     "data": {
      "application/vnd.jupyter.widget-view+json": {
       "model_id": "8c6789ea4bf241318d464cbd60fe7c24",
       "version_major": 2,
       "version_minor": 0
      },
      "text/plain": [
       "Canvas(toolbar=Toolbar(toolitems=[('Home', 'Reset original view', 'home', 'home'), ('Back', 'Back to previous …"
      ]
     },
     "metadata": {},
     "output_type": "display_data"
    },
    {
     "name": "stdout",
     "output_type": "stream",
     "text": [
      "Working on 'comon'\n"
     ]
    },
    {
     "name": "stderr",
     "output_type": "stream",
     "text": [
      "<ipython-input-5-dd673a9dad76>:4: RuntimeWarning: invalid value encountered in arcsin\n",
      "  cdf = 2/np.pi * np.arcsin(0.5 * np.sqrt(2**rate-1))\n"
     ]
    },
    {
     "name": "stdout",
     "output_type": "stream",
     "text": [
      "Working on 'counter'\n",
      "Working on 'indep'\n"
     ]
    }
   ],
   "source": [
    "two_element_fast_fading()"
   ]
  },
  {
   "cell_type": "markdown",
   "metadata": {},
   "source": [
    "## N-Element RIS"
   ]
  },
  {
   "cell_type": "code",
   "execution_count": 7,
   "metadata": {},
   "outputs": [],
   "source": [
    "def n_element_fast_fading(num_samples_slow=1000, num_samples_fast=5000):\n",
    "    fig, axs = plt.subplots()\n",
    "    def update(num_elements=3):\n",
    "        axs.clear()\n",
    "        channel_realizations = rvs_channel_phases(num_elements, num_samples_slow)\n",
    "        channel_realizations = np.tile(channel_realizations, (num_samples_fast, 1, 1))\n",
    "        ris_phases = rvs_ris_phases(num_elements, num_samples_slow, num_samples_fast, copula=\"indep\")\n",
    "        channel_realizations = channel_realizations + ris_phases\n",
    "        const_phase = gains_constant_phase(channel_realizations)\n",
    "        capac_const_phase = np.log2(1 + const_phase)\n",
    "        expect_capac = np.mean(capac_const_phase, axis=0)\n",
    "        _hist = np.histogram(expect_capac, bins=100)\n",
    "        _r_ax = np.linspace(0, 3, 1000)\n",
    "        cdf_hist = stats.rv_histogram(_hist).cdf(_r_ax)\n",
    "        axs.plot(_r_ax, cdf_hist)\n",
    "        axs.set_title(\"Artificial Fast Fading with N={:d} RIS Elements\".format(num_elements))\n",
    "        axs.set_xlabel(\"Rate $R$\")\n",
    "        axs.set_ylabel(\"Outage Probability\")\n",
    "    interact_manual(update, num_elements=(2, 10, 1))"
   ]
  },
  {
   "cell_type": "code",
   "execution_count": 8,
   "metadata": {},
   "outputs": [
    {
     "data": {
      "application/vnd.jupyter.widget-view+json": {
       "model_id": "90e1e0c5be80473ca09d6944ec16ab2a",
       "version_major": 2,
       "version_minor": 0
      },
      "text/plain": [
       "Canvas(toolbar=Toolbar(toolitems=[('Home', 'Reset original view', 'home', 'home'), ('Back', 'Back to previous …"
      ]
     },
     "metadata": {},
     "output_type": "display_data"
    },
    {
     "data": {
      "application/vnd.jupyter.widget-view+json": {
       "model_id": "413c4cb8af8d46ac92e5f6bd88b800c0",
       "version_major": 2,
       "version_minor": 0
      },
      "text/plain": [
       "interactive(children=(IntSlider(value=3, description='num_elements', max=10, min=2), Button(description='Run I…"
      ]
     },
     "metadata": {},
     "output_type": "display_data"
    }
   ],
   "source": [
    "n_element_fast_fading()"
   ]
  },
  {
   "cell_type": "markdown",
   "metadata": {},
   "source": [
    "## Quantized Phases\n",
    "\n",
    "TODO: ..."
   ]
  },
  {
   "cell_type": "code",
   "execution_count": 9,
   "metadata": {},
   "outputs": [],
   "source": [
    "def quantized_two_phases_two_elements(num_samples_slow=1000, num_samples_fast=5000):\n",
    "    fig, axs = plt.subplots()\n",
    "    num_elements = 2\n",
    "    dependency = \"indep\"\n",
    "    channel_realizations = rvs_channel_phases(num_elements, num_samples_slow)\n",
    "    channel_realizations = np.tile(channel_realizations, (num_samples_fast, 1, 1))\n",
    "    ris_phases = rvs_ris_phases_quant(num_elements, num_samples_slow, num_samples_fast,\n",
    "                                      copula=dependency, K=2)\n",
    "    total_phases = channel_realizations + ris_phases\n",
    "    const_phase = gains_constant_phase(total_phases)\n",
    "    capac_const_phase = np.log2(1 + const_phase)\n",
    "    expect_capac = np.mean(capac_const_phase, axis=0)\n",
    "    _hist = np.histogram(expect_capac, bins=100)\n",
    "    _r_ax = np.linspace(0, 3, 1000)\n",
    "    cdf_hist = stats.rv_histogram(_hist).cdf(_r_ax)\n",
    "    zoc = 0.5*np.log2(5)\n",
    "    axs.plot(_r_ax, cdf_hist, label=\"ECDF\")\n",
    "    axs.vlines(zoc, 0, 1, 'r', label=\"ZOC -- Exact\")\n",
    "    axs.legend()\n",
    "    axs.set_title(\"Artificial Fast Fading with N={:d} RIS Elements\\nQuantized Phases with 2 Quantization Steps\".format(num_elements))\n",
    "    axs.set_xlabel(\"Rate $R$\")\n",
    "    axs.set_ylabel(\"Outage Probability $\\\\varepsilon$\")"
   ]
  },
  {
   "cell_type": "code",
   "execution_count": 10,
   "metadata": {},
   "outputs": [
    {
     "data": {
      "application/vnd.jupyter.widget-view+json": {
       "model_id": "b6a074e212c74bb7b3bebb3c0a75ec93",
       "version_major": 2,
       "version_minor": 0
      },
      "text/plain": [
       "Canvas(toolbar=Toolbar(toolitems=[('Home', 'Reset original view', 'home', 'home'), ('Back', 'Back to previous …"
      ]
     },
     "metadata": {},
     "output_type": "display_data"
    }
   ],
   "source": [
    "quantized_two_phases_two_elements()"
   ]
  }
 ],
 "metadata": {
  "kernelspec": {
   "display_name": "Python 3",
   "language": "python",
   "name": "python3"
  },
  "language_info": {
   "codemirror_mode": {
    "name": "ipython",
    "version": 3
   },
   "file_extension": ".py",
   "mimetype": "text/x-python",
   "name": "python",
   "nbconvert_exporter": "python",
   "pygments_lexer": "ipython3",
   "version": "3.9.3"
  }
 },
 "nbformat": 4,
 "nbformat_minor": 4
}
